{
 "cells": [
  {
   "cell_type": "markdown",
   "id": "f000dba7-1285-4a71-b369-6ae6831a395b",
   "metadata": {},
   "source": [
    "This notebook contains the code to generate all figures related to the analysis of the erythroid dataset in the paper. Figures for al other datasets can be generated following the same commands.\n",
    "\n",
    "All CommFlow's plotting can expoert figures through the using plt.savefig() command, and include the following arguments:\n",
    "- showfig (default=False): if True, the figure is displayed.\n",
    "- savefig (default=True): if True, the figure is exported using plt.savefig().\n",
    "- figname (default=a descriptive name + 'pdf').\n",
    "- format (default='pdf')."
   ]
  },
  {
   "cell_type": "markdown",
   "id": "bbabb16a-35fd-41ee-ac8e-ef2a6fcecd28",
   "metadata": {},
   "source": [
    "# Import all required packages"
   ]
  },
  {
   "cell_type": "code",
   "execution_count": null,
   "id": "17412e0e-f002-40c1-a402-d80db587a8f0",
   "metadata": {},
   "outputs": [],
   "source": [
    "import scvelo as scv\n",
    "import scanpy as sc\n",
    "import os\n",
    "import string\n",
    "import matplotlib.pyplot as plt\n",
    "\n",
    "import commflow as cf"
   ]
  },
  {
   "cell_type": "markdown",
   "id": "9312d830-22de-4aaa-b17c-1b36a3fafaa2",
   "metadata": {},
   "source": [
    "This dataset is accessible through scvelo. We download the dataset and run preprocessing and RNA velocity calculation following scvelo's [tutorial](https://scvelo.readthedocs.io/en/stable/index.html)."
   ]
  },
  {
   "cell_type": "code",
   "execution_count": null,
   "id": "ec3b9492-951f-41a9-9ed0-ae5a1dce261e",
   "metadata": {},
   "outputs": [],
   "source": [
    "adata = scv.datasets.gastrulation_erythroid()              # download the dataset\n",
    "scv.pp.filter_and_normalize(adata, min_shared_counts=20)   # preprocessing\n",
    "scv.pp.moments(adata, n_pcs=30, n_neighbors=30)            # compute moments for unspliced/spliced RNA\n",
    "scv.tl.velocity(adata, mode='stochastic')                  # compute RNA velocity with stochastic model\n",
    "scv.tl.velocity_graph(adata)                               # compute the velocity graph"
   ]
  },
  {
   "cell_type": "markdown",
   "id": "e559f7e5-d53c-4bb4-a4a2-d82580827e7c",
   "metadata": {},
   "source": [
    "# Overview of highly expressed CCC pathways"
   ]
  },
  {
   "cell_type": "markdown",
   "id": "b8287cc1-dca2-4fd1-b682-1da15ac4de0e",
   "metadata": {},
   "source": [
    "The cf.tl.pathways_overview command quantifies the strenght of each CCC pathway in the dataset based on either (1) overall expression of ligands and receptors in the pathway or (2) overall number of ligands/receptors that are detected in the pathway. The result of ths overview can be visualized with the cf.pl.pathways_overview command. This analysis is useful to set a cutoff for how many pathways are considered in the follow-up analysis."
   ]
  },
  {
   "cell_type": "code",
   "execution_count": null,
   "id": "42c78d82-4488-400c-a9d2-3a0332ff4608",
   "metadata": {},
   "outputs": [],
   "source": [
    "cf.tl.pathways_overview(adata, human=False) #human=False imply using the mouse database\n",
    "cf.pl.pathways_overview(adata, top=10, ticksize=10, savefig=False, showfig=True)"
   ]
  },
  {
   "cell_type": "markdown",
   "id": "d23903d4-70fc-4a17-a295-968b470d567a",
   "metadata": {},
   "source": [
    "Run the CCC-based clustering for each pathway with the cf.tl.all_path_sim command. Notable arguments are:\n",
    "-The second argument is the adata.obs column to use for cell annotations (in this case, 'celltype').\n",
    "-method is the way to rank CCC pathways.\n",
    "-n is the number of CCC pathways to consider.\n",
    "-target: if True, also use downstream targets when estimating CCC pathway expression.\n",
    "-human: if False, use the mouse database.\n",
    "-neighbor_average: if True, smoothen ligand/receptor expression based on nearest neighbors."
   ]
  },
  {
   "cell_type": "code",
   "execution_count": null,
   "id": "bd7240bb-2e60-49bb-8336-bdf25f69c2f0",
   "metadata": {},
   "outputs": [],
   "source": [
    "cf.tl.all_path_sim(adata, 'celltype', method='expression', n=10, target=False, human=False, neighbor_average=True, print_info=True)"
   ]
  },
  {
   "cell_type": "markdown",
   "id": "4f002fe4-21ae-4f79-a67a-74c68f004ff6",
   "metadata": {},
   "source": [
    "# Update RNA velocity (optional)\n",
    "In our analysis, we computed RNA velocity with [Unitvelo](https://www.nature.com/articles/s41467-022-34188-7) following [this tutorial](https://unitvelo.readthedocs.io/en/latest/Figure2_ErythroidMouse.html), which yields more robust trajctories for this dataset. The resuklt is stored in a h5ad file \"erythroid_lineage_uniTVelo.h5ad\" that is loaded here. In the script below, Unitvelo's RNA velocities are transfered to adata."
   ]
  },
  {
   "cell_type": "code",
   "execution_count": null,
   "id": "dfa2feeb-ab31-4c94-987c-6178671823de",
   "metadata": {},
   "outputs": [],
   "source": [
    "adata_uv = sc.read_h5ad('RNA_vel_models/erythroid_lineage_uniTVelo.h5ad')\n",
    "adata.uns['velocity_graph'] = adata_uv.uns['velocity_graph']\n",
    "adata.uns['velocity_graph_neg'] = adata_uv.uns['velocity_graph_neg']\n",
    "adata.uns['velocity_params'] = adata_uv.uns['velocity_params']\n",
    "adata.uns['label'] = adata_uv.uns['label']\n",
    "adata.obs['latent_time'] = adata_uv.obs['latent_time']"
   ]
  },
  {
   "cell_type": "markdown",
   "id": "5133355c-5f56-43a8-a13f-6a34a0418d0c",
   "metadata": {},
   "source": [
    "Compute the mutual information between CCC pathways. It is advisable to run this command right after cf.tl.all_path_sim, even though mutual information analysis will be performed later on in the notebook, because renaming of CCC modes will generate an error when running this command."
   ]
  },
  {
   "cell_type": "code",
   "execution_count": null,
   "id": "61015bda-1fca-41df-887c-a05b0f9455ae",
   "metadata": {},
   "outputs": [],
   "source": [
    "cf.tl.pairwise_MI(adata"
   ]
  },
  {
   "cell_type": "markdown",
   "id": "a425a070-8dca-4c28-818b-326a8a3b6e6b",
   "metadata": {},
   "source": [
    "# Visualize CCC modes of specific CCC pathways and their distribution along cell lineage\n",
    "\n",
    "Visualize CCC pathway heterogeneity:\n",
    "\n",
    "The code below generates an overtview of CCC pathway heterogeneity.\n",
    "- barplot of pathway heterogeneity.\n",
    "- Barplot of cell type heterogeneity.\n",
    "- Heatmap wioth celltype-CCC mode mapping."
   ]
  },
  {
   "cell_type": "code",
   "execution_count": null,
   "id": "ffb9d4ab-93d2-4ef2-94bb-20566486db29",
   "metadata": {},
   "outputs": [],
   "source": [
    "plot_CCC_overview = False\n",
    "    if plot_CCC_overview:\n",
    "        cf.pl.pathway_heterogeneity_summary(adata, key='celltype', figname=fig_path + 'pathway_summary.pdf')\n",
    "        cf.pl.state_heterogeneity_summary(adata, 'celltype', figname=fig_path + 'states_summary.pdf', figsize=(5, 5))\n",
    "\n",
    "        # shorten cell type names for nicer plotting:\n",
    "        cf.tl.rename_cells(adata, {'Blood progenitors 1': 'BP-1', 'Blood progenitors 2': 'BP-2', 'Erythroid1': 'Er-1',\n",
    "                                   'Erythroid2': 'Er-2', 'Erythroid3': 'Er-3'}, key='celltype')\n",
    "        cf.pl.heterogeneity_heatmap(adata, 'celltype', figname=fig_path + 'het_heatmap.pdf', fontsize=7,\n",
    "                                    figsize=(2.5, 2.5))"
   ]
  },
  {
   "cell_type": "markdown",
   "id": "fd87bd57-6504-40ea-82bb-adacbb7b7a64",
   "metadata": {},
   "source": [
    "Visualize CCC pathway heterogeneity:\n",
    "\n",
    "The code below generates 4 different visualization for each CCC pathway that was considered in the CCC_based clustering (in this case, 10 pathways because n=10 in cf.tl.all_path_sim). Visualizations include:\n",
    "- scatterplot of CCC modes.\n",
    "- eigenvalue gap.\n",
    "- cell type heterogeneity with respect to the CCC pathway.\n",
    "- kdeplot of CCC modes overlayed with RNA velocity trajectories. This figure is exported in png by default."
   ]
  },
  {
   "cell_type": "code",
   "execution_count": null,
   "id": "a147368f-3341-4d69-b961-74394e4d7b20",
   "metadata": {},
   "outputs": [],
   "source": [
    "plot_CCC_pathway_detail = False\n",
    "    if plot_CCC_pathway_detail:\n",
    "        if not os.path.isdir('erythroid/pathway_detail'):\n",
    "            os.mkdir('erythroid/pathway_detail')\n",
    "        for p in adata.uns['pathways'].keys():\n",
    "            cf.pl.scatter2D(adata, p + '_modes', figname=fig_path + 'pathway_detail/' + 'scatter_' + p + '.pdf')\n",
    "            cf.pl.plot_mode_gap(adata, p, figname=fig_path + 'pathway_detail/' + 'gap_' + p + '.pdf')\n",
    "            cf.pl.heatmap_one_pathway(adata, p, 'celltype',\n",
    "                                      figname=fig_path + 'pathway_detail/' + 'table_' + p + '.pdf')\n",
    "            cf.pl.single_pathway_heterogeneity(adata, p, 'celltype',\n",
    "                                               figname=fig_path + 'pathway_detail/' + 'heterogeneity_' + p + '.pdf')\n",
    "            cf.pl.plot_maps(adata, p, figname=fig_path + 'pathway_detail/' + 'sign_prob_' + p + '.png')"
   ]
  },
  {
   "cell_type": "markdown",
   "id": "4257bc05-05d7-4654-8e2f-20ab150a3946",
   "metadata": {},
   "source": [
    "# Further composition analysis for specific CCC pathways\n",
    "\n",
    "We study in more detail the IGF, FGF, and VEGF pathways. First, we rename the CCC modes with more intuotiuve labels (this is done on an ad hoc basis after examinig the results from the previous block of analysis)."
   ]
  },
  {
   "cell_type": "code",
   "execution_count": null,
   "id": "5d7ca440-3bac-4403-b972-2d5bd97f7ed8",
   "metadata": {},
   "outputs": [],
   "source": [
    "cf.tl.rename_modes(adata, 'IGF', {0: 'Receiver', 1: 'Inactive', 2: 'Sender/Receiver'})\n",
    "cf.tl.rename_modes(adata, 'FGF', {0: 'Inactive', 1: 'Sender', 2: 'Sender/Receiver'})\n",
    "cf.tl.rename_modes(adata, 'VEGF', {0: 'Sender', 1: 'Inactive', 2: 'Receiver'})"
   ]
  },
  {
   "cell_type": "markdown",
   "id": "40e9789a-a54c-443a-8d28-81b986dd6087",
   "metadata": {},
   "source": [
    "Viosualize the fraction of cells in different CCC modes as a function of pseudotime:"
   ]
  },
  {
   "cell_type": "code",
   "execution_count": null,
   "id": "0fb67de6-d5e1-499f-b09f-ff31ea48a695",
   "metadata": {},
   "outputs": [],
   "source": [
    "igf_frac = cf.pl.sign_prob_plot(adata, 'IGF', key='latent_time', xlab='latent time',\n",
    "                                        figname=fig_path + 'pseudotime_IGF.pdf', legend_font=8,\n",
    "                                        title='IGF signaling distribution', showfig=False, return_curve=True)\n",
    "fgf_frac = cf.pl.sign_prob_plot(adata, 'FGF', key='latent_time', xlab='latent time',\n",
    "                                        figname=fig_path + 'pseudotime_FGF.pdf', legend_font=8,\n",
    "                                        title='VEGF signaling distribution', showfig=False, return_curve=True)\n",
    "vegf_frac = cf.pl.sign_prob_plot(adata, 'VEGF', key='latent_time', xlab='latent time',\n",
    "                                         figname=fig_path + 'pseudotime_VEGF.pdf', legend_font=8,\n",
    "                                         title='VEGF signaling distribution', showfig=False, return_curve=True)"
   ]
  },
  {
   "cell_type": "markdown",
   "id": "2a374897-f21e-44cc-91e6-993ccecf142e",
   "metadata": {},
   "source": [
    "Visualize the composition of different CCC modes for the IGF pathway:"
   ]
  },
  {
   "cell_type": "code",
   "execution_count": null,
   "id": "628470b2-10c5-4a68-8e19-4f63142f572c",
   "metadata": {},
   "outputs": [],
   "source": [
    "cf.pl.mode_composition(adata, 'celltype', 'IGF', 0, rename_states=['BP-1', 'BP-2', 'Er-1', 'Er-2', 'Er-3'],\n",
    "                               figname=fig_path + 'pathway_detail/' + 'IGF_receiver.pdf')\n",
    "cf.pl.mode_composition(adata, 'celltype', 'IGF', 1, rename_states=['BP-1', 'BP-2', 'Er-1', 'Er-2', 'Er-3'],\n",
    "                               figname=fig_path + 'pathway_detail/' + 'IGF_inactive.pdf')\n",
    "cf.pl.mode_composition(adata, 'celltype', 'IGF', 2, rename_states=['BP-1', 'BP-2', 'Er-1', 'Er-2', 'Er-3'],\n",
    "                               figname=fig_path + 'pathway_detail/' + 'IGF_sen_rec.pdf')"
   ]
  },
  {
   "cell_type": "markdown",
   "id": "9dcb55ac-0d7d-4a3b-8dfe-5f66ae614ea9",
   "metadata": {},
   "source": [
    "# Redundancy and overlap between CCC pathways"
   ]
  },
  {
   "cell_type": "code",
   "execution_count": null,
   "id": "d8380db0-c3fe-48d1-91b9-6a78be4c434b",
   "metadata": {},
   "outputs": [],
   "source": [
    "cf.pl.redundancy(adata, figname=fig_path + 'path_redundancy.pdf')"
   ]
  },
  {
   "cell_type": "markdown",
   "id": "249108a9-08c3-4a68-bf8e-0cbbe5fbfc57",
   "metadata": {},
   "source": [
    "Overlap between CCC modes of different pathways, one pair at a time."
   ]
  },
  {
   "cell_type": "code",
   "execution_count": null,
   "id": "ea587af3-cc25-4f02-9dba-8beae68afd30",
   "metadata": {},
   "outputs": [],
   "source": [
    "cf.pl.alluvial_twopath(adata, 'IGF', 'VEGF', key='celltype', figname=fig_path + 'IGF_VEGF.pdf')\n",
    "cf.pl.alluvial_twopath(adata, 'FGF', 'VEGF', key='celltype', figname=fig_path + 'FGF_VEGF.pdf')\n",
    "cf.pl.alluvial_twopath(adata, 'IGF', 'FGF', key='celltype', figname=fig_path + 'IGF_FGF.pdf')"
   ]
  },
  {
   "cell_type": "markdown",
   "id": "7ed5ce44-8a4f-400f-a5fe-c03a2360dd5f",
   "metadata": {},
   "source": [
    "# Emerging CCC patterns across pathways\n",
    "\n",
    "Perform cell clustering based on the CCC mode of the different CCC pathways. The resolution parameter (res) works similarly to standard clustering resolution, i.e., higher resolution will result in more clusters."
   ]
  },
  {
   "cell_type": "code",
   "execution_count": null,
   "id": "a2672869-11ff-44e3-a9d1-4bf673a2cda3",
   "metadata": {},
   "outputs": [],
   "source": [
    "cf.tl.find_sign_patterns(adata, res=0.05)"
   ]
  },
  {
   "cell_type": "markdown",
   "id": "64c38316-55ba-4998-bd96-be080c7fa40a",
   "metadata": {},
   "source": [
    "Summary of the relation between cell tyopes and CCC patterns visualized either as alluvial plot or as barplot."
   ]
  },
  {
   "cell_type": "code",
   "execution_count": null,
   "id": "920b9ac2-5676-4af6-bd25-64a2874b5668",
   "metadata": {},
   "outputs": [],
   "source": [
    "cf.tl.pattern_summary(adata, 'celltype', panel_per_row=5, figname=fig_path + 'pattern_summary.pdf')\n",
    "cf.pl.alluvial_pattern(adata, 'celltype', figname=fig_path + 'pattern_alluvial.pdf')"
   ]
  },
  {
   "cell_type": "markdown",
   "id": "39edb248-ca61-49c3-97c4-f9dd3442312f",
   "metadata": {},
   "source": [
    "Detailed visualzation of each CCC pattern:"
   ]
  },
  {
   "cell_type": "code",
   "execution_count": null,
   "id": "e8d16ad1-0e3b-4d4f-ae02-16dc6fa221ab",
   "metadata": {},
   "outputs": [],
   "source": [
    "if not os.path.isdir('erythroid/pattern_detail'):\n",
    "    os.mkdir('erythroid/pattern_detail')\n",
    "for p in set(adata.obs['sign_pattern']):\n",
    "    cf.tl.pattern(adata, int(p), key='celltype', human=False, ntop=15, figsize=(5, 2), fontsize=7,\n",
    "                    figname=fig_path + 'pattern_detail/pattern_' + str(p) + '.pdf')\n",
    "    cf.pl.pattern_plot(adata, pattern=int(p),\n",
    "                    figname=fig_path + 'pattern_detail/pattern_' + str(p) + '_map.png')\n",
    "    cf.pl.pattern_prob_plot(adata, int(p), key='latent_time', npoints=10, xlab='latent time', ax=None,\n",
    "                    figsize=(2, 2), showfig=False, savefig=True,\n",
    "                    figname=fig_path + 'pattern_detail/pattern_' + str(p) + '_pst.pdf')"
   ]
  },
  {
   "cell_type": "markdown",
   "id": "a68cb5df-b6fb-4557-9f45-9ad145099863",
   "metadata": {},
   "source": [
    "# Chord diagram of CCC at meta-cell resolution\n",
    "\n",
    "For this analysis of the IGF pathway, we imported a set of downstream targets. This gene set is added to the CCC database and will be used to compoute CCC conncetions. This step is optional. We also rename the IGF CCC modes with more intuitive names (this can be skipped if CCC modes were already renamed earlier in the notebook)."
   ]
  },
  {
   "cell_type": "code",
   "execution_count": null,
   "id": "15f44897-eb94-413a-9ac3-cacccb79618c",
   "metadata": {},
   "outputs": [],
   "source": [
    "igf = ['CSNK2A1', 'ELK1', 'FOS', 'GRB2', 'HRAS', 'IRS1', 'JUN', 'MAP2K1', 'MAPK3', 'MAPK8', 'PIK3CA', 'PIK3CG',\n",
    "            'PIK3R1', 'PTPN11', 'RAF1', 'RASA1', 'SHC1', 'SOS1', 'SRF']\n",
    "igf = [string.capwords(s) for s in igf]\n",
    "cf.tl.import_database(adata, ['IGF'], species='mouse', unspliced=True, input_target={'IGF': igf})\n",
    "cf.tl.rename_modes(adata, 'IGF', {0: 'Rec', 1: 'Inac', 2: 'Sen/Rec'})   # rename CCC modes"
   ]
  },
  {
   "cell_type": "markdown",
   "id": "1388ca82-7ca9-48f0-ba2a-89fe77ea5024",
   "metadata": {},
   "source": [
    "Compute and visualize the CCC interactions as chord diagram. The chort_diagram() uses R-based chord plotting, so potential errors could be related to proper installation of R."
   ]
  },
  {
   "cell_type": "code",
   "execution_count": null,
   "id": "075a6d99-e74d-41da-9b48-8ea3cc34fdb9",
   "metadata": {},
   "outputs": [],
   "source": [
    "cf.tl.compute_ccc_matrix(adata, 'IGF', key='celltype', include_target=True, conversion=True, \n",
    "                         model='mass_action', min_cells=10)\n",
    "cf.pl.chord_diagram(adata, 'IGF', cmap='Set3', key='celltype', figname=fig_path + 'IGF_chord_target', thr=0.01, directional=1)"
   ]
  },
  {
   "cell_type": "markdown",
   "id": "ae79c067-bd7b-4c35-8988-82a2b80b50b8",
   "metadata": {},
   "source": [
    "Visualize the CCC modes and their interactions along the cell lineage. The updat_conn is a dictionary that can be used to update the curvature of CCC arrows for better visualization. "
   ]
  },
  {
   "cell_type": "code",
   "execution_count": null,
   "id": "7fc35747-ff60-4ef3-89d9-8f88542ad110",
   "metadata": {},
   "outputs": [],
   "source": [
    "update_conn = {'start: BP-1-Sen/Rec; end: Er-2-Rec': \"arc3, rad=0.3\",\n",
    "                   'start: BP-1-Sen/Rec; end: Er-1-Rec': \"arc3, rad=0.3\"}\n",
    " cf.pl.coarse_grained_map(adata, 'IGF', key='celltype', update_horiz_align=update_horiz,\n",
    "                        update_vert_align=update_vert, update_connection=update_conn, thr=0.03,\n",
    "                        fontsize=7, figsize=(2.5, 2.5),\n",
    "                        figname=fig_path + 'coarse_grained_IGF.png')"
   ]
  }
 ],
 "metadata": {
  "kernelspec": {
   "display_name": "Python 3 (ipykernel)",
   "language": "python",
   "name": "python3"
  },
  "language_info": {
   "codemirror_mode": {
    "name": "ipython",
    "version": 3
   },
   "file_extension": ".py",
   "mimetype": "text/x-python",
   "name": "python",
   "nbconvert_exporter": "python",
   "pygments_lexer": "ipython3",
   "version": "3.12.5"
  }
 },
 "nbformat": 4,
 "nbformat_minor": 5
}
